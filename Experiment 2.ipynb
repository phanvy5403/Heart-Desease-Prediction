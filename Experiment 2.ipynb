{
 "cells": [
  {
   "cell_type": "markdown",
   "id": "585634f1",
   "metadata": {},
   "source": [
    "# Train model on an imbalanced dataset"
   ]
  },
  {
   "cell_type": "code",
   "execution_count": 43,
   "id": "b0fe5fe6",
   "metadata": {},
   "outputs": [],
   "source": [
    "#Import libaries\n",
    "import pandas as pd\n",
    "import numpy as np\n",
    "import matplotlib.pyplot as plt\n",
    "from sklearn.preprocessing import scale\n",
    "#training model fuctions\n",
    "def Sigmoid(z):\n",
    "    return 1.0/(1+np.exp(-z))\n",
    "def Predict(x,w):\n",
    "    z = np.dot(x, w)\n",
    "    return Sigmoid(z)\n",
    "def cost_function(features, labels, weights):\n",
    "    n = len(labels)\n",
    "    predictions = Predict(features, weights)\n",
    "    cost_class1 = -np.log(predictions)*labels\n",
    "    cost_class2 = -np.log(1-predictions)*(1-labels)\n",
    "    cost = cost_class1 + cost_class2\n",
    "    return cost.sum()/n\n",
    "def update_weight(features, labels, weights, learning_rate):\n",
    "    n = len(labels)\n",
    "    predictions = Predict(features, weights)\n",
    "    gradient = np.dot(features.T, predictions-labels)\n",
    "    gradient /= n\n",
    "    gradient *= learning_rate\n",
    "    weights = weights - gradient\n",
    "    return weights\n",
    "def train(features, labels, weights, learning_rate, iter):\n",
    "    cost_history = []\n",
    "    for i in range(iter):\n",
    "        weights = update_weight(features, labels, weights, learning_rate)\n",
    "        cost = cost_function(features, labels, weights)\n",
    "        cost_history.append(cost)\n",
    "    return weights, cost_history\n",
    "#Normalized data function\n",
    "def Scale_data(data):\n",
    "    data.age=scale(data.age)\n",
    "    data.trestbps=scale(data.trestbps)\n",
    "    data.chol=scale(data.chol)\n",
    "    data.thalach=scale(data.thalach)\n",
    "    data.oldpeak=scale(data.oldpeak)\n",
    "    return data\n",
    "def Predict_target(predictions):\n",
    "    for i in range(len(predictions)):\n",
    "        if predictions[i] >= 0.5:\n",
    "            predictions[i] = 1\n",
    "        else:\n",
    "            predictions[i] = 0\n",
    "    return predictions"
   ]
  },
  {
   "cell_type": "markdown",
   "id": "5b1b21f0",
   "metadata": {},
   "source": [
    "### Generate data"
   ]
  },
  {
   "cell_type": "code",
   "execution_count": 44,
   "id": "6f7dca93",
   "metadata": {},
   "outputs": [],
   "source": [
    "data = pd.read_csv('heart.csv')"
   ]
  },
  {
   "cell_type": "code",
   "execution_count": 45,
   "id": "0365b728",
   "metadata": {},
   "outputs": [],
   "source": [
    "positive = data.loc[data.target==1]\n",
    "negative = data.loc[data.target==0]"
   ]
  },
  {
   "cell_type": "markdown",
   "id": "cabd4237",
   "metadata": {},
   "source": [
    "#### Dataset consist of randomly 100 positive samples and 349 negative samples "
   ]
  },
  {
   "cell_type": "code",
   "execution_count": 46,
   "id": "7a43dc1a",
   "metadata": {},
   "outputs": [
    {
     "data": {
      "image/png": "[encoded data removed]",
      "text/plain": [
       "<Figure size 432x288 with 1 Axes>"
      ]
     },
     "metadata": {
      "needs_background": "light"
     },
     "output_type": "display_data"
    }
   ],
   "source": [
    "pos_train = positive.sample(n=100)\n",
    "neg_train = negative.sample(n=349)\n",
    "data_train = pd.concat([neg_train, pos_train])\n",
    "labels = data_train.target.to_numpy()\n",
    "data_train[\"bias\"]=np.ones(449)\n",
    "target_values = {\"Positive\": len(data_train.loc[data_train.target==1]), \"Negative\": len(data_train.loc[data_train.target==0])}\n",
    "fig, ax = plt.subplots()\n",
    "ax.bar(target_values.keys(), target_values.values())\n",
    "ax.set(title=\"Count of two class\")\n",
    "data_train=data_train.drop(['target'], axis=1)"
   ]
  },
  {
   "cell_type": "markdown",
   "id": "5388aa64",
   "metadata": {},
   "source": [
    "### Train model and predict "
   ]
  },
  {
   "cell_type": "code",
   "execution_count": 47,
   "id": "d5b33ffe",
   "metadata": {},
   "outputs": [
    {
     "data": {
      "text/plain": [
       "[<matplotlib.lines.Line2D at 0x2b8f78fb9d0>]"
      ]
     },
     "execution_count": 47,
     "metadata": {},
     "output_type": "execute_result"
    },
    {
     "data": {
      "image/png": "[encoded data removed]",
      "text/plain": [
       "<Figure size 432x288 with 1 Axes>"
      ]
     },
     "metadata": {
      "needs_background": "light"
     },
     "output_type": "display_data"
    }
   ],
   "source": [
    "weights = np.zeros([14], float)\n",
    "cost_history = []\n",
    "weights, cost_history = train(Scale_data(data_train).to_numpy(), labels, weights, 0.0005, 10000)\n",
    "#Visualize cost history\n",
    "plt.plot(cost_history)"
   ]
  },
  {
   "cell_type": "code",
   "execution_count": 62,
   "id": "daf5d5b0",
   "metadata": {},
   "outputs": [
    {
     "data": {
      "text/plain": [
       "[Text(0.5, 1.0, 'Predictions of data test')]"
      ]
     },
     "execution_count": 62,
     "metadata": {},
     "output_type": "execute_result"
    },
    {
     "data": {
      "image/png": "[encoded data removed]",
      "text/plain": [
       "<Figure size 432x288 with 1 Axes>"
      ]
     },
     "metadata": {
      "needs_background": "light"
     },
     "output_type": "display_data"
    }
   ],
   "source": [
    "data_test = data.drop(labels=data_train.index, axis = 0)\n",
    "data_test[\"bias\"]=np.ones(len(data_test))\n",
    "labels_of_datatest = data_test.target.to_numpy()\n",
    "data_test = data_test.drop(['target'], axis=1)\n",
    "predictions_of_datatest = Predict(Scale_data(data_test).to_numpy(), weights)\n",
    "predictions_of_datatest = Predict_target(predictions_of_datatest)\n",
    "target_values = {\"Positive\": np.count_nonzero(predictions_of_datatest==1), \"Negative\": np.count_nonzero(predictions_of_datatest==0)}\n",
    "fig, ax = plt.subplots()\n",
    "ax.bar(target_values.keys(), target_values.values())\n",
    "ax.set(title=\"Predictions of data test\")"
   ]
  },
  {
   "cell_type": "code",
   "execution_count": 49,
   "id": "f8dbecac",
   "metadata": {},
   "outputs": [],
   "source": [
    "def Confusion_matrix(predictions, labels):\n",
    "    True_Pos = True_Neg = False_Neg = False_Pos = 0\n",
    "    for i in range(len(labels)):\n",
    "        if predictions[i]==labels[i]==1:\n",
    "            True_Pos+=1\n",
    "        elif predictions[i]==1 and labels[i]==0:\n",
    "            False_Pos+=1\n",
    "        elif predictions[i]==0 and labels[i]==1:\n",
    "            False_Neg+=1\n",
    "        elif predictions[i]==labels[i]==0:\n",
    "            True_Neg+=1\n",
    "    return True_Pos, True_Neg, False_Neg, False_Pos\n",
    "def Evaluation_metrics(True_Pos, True_Neg, False_Neg, False_Pos):\n",
    "    accuracy =(True_Pos+True_Neg)/(True_Pos+ True_Neg+ False_Neg+ False_Pos)\n",
    "    precision = True_Pos/(True_Pos+False_Pos)\n",
    "    recall = True_Pos/(True_Pos+False_Neg)\n",
    "    F1_score = (2*precision*recall)/(precision+recall)\n",
    "    return accuracy, precision, recall, F1_score\n",
    "def Visualize_confusion_matrix(Confusion_matrix):\n",
    "    fig, ax = plt.subplots(figsize=(5, 5))\n",
    "    ax.matshow(Confusion_matrix, cmap=plt.cm.Blues, alpha=0.3)\n",
    "    for i in range(Confusion_matrix.shape[0]):\n",
    "        for j in range(Confusion_matrix.shape[1]):\n",
    "            ax.text(x=j, y=i,s=Confusion_matrix[i, j], va='center', ha='center', size='xx-large')\n",
    "    plt.xlabel('Predictions', fontsize=18)\n",
    "    plt.ylabel('Actuals', fontsize=18)\n",
    "    plt.title('Confusion Matrix', fontsize=18)"
   ]
  },
  {
   "cell_type": "code",
   "execution_count": 50,
   "id": "6d2ff6b3",
   "metadata": {},
   "outputs": [],
   "source": [
    "True_Pos, True_Neg, False_Neg, False_Pos = Confusion_matrix(predictions_of_datatest, labels_of_datatest)\n",
    "accuracy, precision, recall, F1_score = Evaluation_metrics(True_Pos, True_Neg, False_Neg, False_Pos)"
   ]
  },
  {
   "cell_type": "code",
   "execution_count": 51,
   "id": "203d6c5d",
   "metadata": {},
   "outputs": [],
   "source": [
    "pos_test = positive.drop(labels=pos_train.index, axis =0)\n",
    "neg_test = negative.drop(labels=neg_train.index, axis=0)\n",
    "n2_pos = len(pos_test)\n",
    "n2_neg = len(neg_test)\n",
    "Conf_matrix = np.array([[round(True_Neg/n2_neg,2),round(False_Pos/n2_neg,3)],[round(False_Neg/n2_pos,3), round(True_Pos/n2_pos,2)]])"
   ]
  },
  {
   "cell_type": "markdown",
   "id": "6165da0e",
   "metadata": {},
   "source": [
    "### Evaluation metrics of data test"
   ]
  },
  {
   "cell_type": "code",
   "execution_count": 52,
   "id": "2ebba57a",
   "metadata": {},
   "outputs": [
    {
     "data": {
      "image/png": "[encoded data removed]",
      "text/plain": [
       "<Figure size 360x360 with 1 Axes>"
      ]
     },
     "metadata": {
      "needs_background": "light"
     },
     "output_type": "display_data"
    }
   ],
   "source": [
    "Visualize_confusion_matrix(Conf_matrix)"
   ]
  },
  {
   "cell_type": "code",
   "execution_count": 53,
   "id": "4e54ff92",
   "metadata": {},
   "outputs": [
    {
     "data": {
      "text/plain": [
       "(0.4270833333333333, 0.98, 0.2300469483568075, 0.3726235741444867)"
      ]
     },
     "execution_count": 53,
     "metadata": {},
     "output_type": "execute_result"
    }
   ],
   "source": [
    "accuracy_2, precision_2, recall_2, F1_score_2 "
   ]
  },
  {
   "cell_type": "markdown",
   "id": "5da8c5f3",
   "metadata": {},
   "source": [
    "### Comment:\n",
    "Because of the data imbalance, accuracy is only 0.42 and F1_score is only 0.37.\n",
    "Specifically, the dataset has three times as many negative samples as positive samples. As a result, the rate of True Negative samples is almost 100% and the rate of False Positive is almost 0%\n"
   ]
  },
  {
   "cell_type": "code",
   "execution_count": null,
   "id": "1c048655",
   "metadata": {},
   "outputs": [],
   "source": []
  },
  {
   "cell_type": "code",
   "execution_count": null,
   "id": "c2dad91d",
   "metadata": {},
   "outputs": [],
   "source": []
  },
  {
   "cell_type": "code",
   "execution_count": null,
   "id": "11b678f5",
   "metadata": {},
   "outputs": [],
   "source": []
  },
  {
   "cell_type": "code",
   "execution_count": null,
   "id": "a4fe16c5",
   "metadata": {},
   "outputs": [],
   "source": []
  }
 ],
 "metadata": {
  "kernelspec": {
   "display_name": "Python 3 (ipykernel)",
   "language": "python",
   "name": "python3"
  },
  "language_info": {
   "codemirror_mode": {
    "name": "ipython",
    "version": 3
   },
   "file_extension": ".py",
   "mimetype": "text/x-python",
   "name": "python",
   "nbconvert_exporter": "python",
   "pygments_lexer": "ipython3",
   "version": "3.9.12"
  }
 },
 "nbformat": 4,
 "nbformat_minor": 5
}
