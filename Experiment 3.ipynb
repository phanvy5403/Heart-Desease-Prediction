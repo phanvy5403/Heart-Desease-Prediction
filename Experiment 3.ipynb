{
 "cells": [
  {
   "attachments": {
    "image-2.png": {
     "image/png": "[encoded data removed]"
    }
   },
   "cell_type": "markdown",
   "id": "af07d307",
   "metadata": {},
   "source": [
    "# Handle imbalanced dataset\n",
    "### Solution: By designing a cost function that is misclassifying the rare class over the rich class misclassifying, it is possible to design many generalized natural models that favor the rare class.\n",
    "![image-2.png](attachment:image-2.png)\n",
    "\n"
   ]
  },
  {
   "cell_type": "markdown",
   "id": "c6fadfb1",
   "metadata": {},
   "source": [
    "Class 1: 100 samples"
   ]
  },
  {
   "cell_type": "markdown",
   "id": "6b63c6d3",
   "metadata": {},
   "source": [
    "Class 0: 349 samples"
   ]
  },
  {
   "cell_type": "markdown",
   "id": "fbf3e82a",
   "metadata": {},
   "source": [
    "=> Choose M = 3.5"
   ]
  },
  {
   "cell_type": "markdown",
   "id": "38ca9f8c",
   "metadata": {},
   "source": [
    "### Build new model with updated loss function "
   ]
  },
  {
   "cell_type": "code",
   "execution_count": 8,
   "id": "90da025a",
   "metadata": {},
   "outputs": [],
   "source": [
    "import pandas as pd\n",
    "import numpy as np\n",
    "import matplotlib.pyplot as plt\n",
    "from sklearn.preprocessing import scale\n",
    "\n",
    "def Sigmoid(z):\n",
    "    return 1.0/(1+np.exp(-z))\n",
    "def Predict(x,w):\n",
    "    z = np.dot(x, w)\n",
    "    return Sigmoid(z)\n",
    "def cost_function(features, labels, weights):\n",
    "    n = len(labels)\n",
    "    predictions = Predict(features, weights)\n",
    "    cost_class1 = -np.log(predictions)*labels\n",
    "    cost_class2 = -np.log(1-predictions)*(1-labels)\n",
    "    cost = cost_class1 + 3.5*cost_class2\n",
    "    return cost.sum()/n\n",
    "def update_weight(features, labels, weights, learning_rate):\n",
    "    n = len(labels)\n",
    "    predictions = Predict(features, weights)\n",
    "    gradient = np.dot(features.T,predictions+2.5*labels*predictions-3.5*labels)\n",
    "    weights = weights - (gradient/n)*learning_rate\n",
    "    return weights\n",
    "def train(features, labels, weights, learning_rate, iter):\n",
    "    cost_history = []\n",
    "    for i in range(iter):\n",
    "        weights = update_weight(features, labels, weights, learning_rate)\n",
    "        cost = cost_function(features, labels, weights)\n",
    "        cost_history.append(cost)\n",
    "    return weights, cost_history\n",
    "def Scale_data(data):\n",
    "    data.age=scale(data.age)\n",
    "    data.trestbps=scale(data.trestbps)\n",
    "    data.chol=scale(data.chol)\n",
    "    data.thalach=scale(data.thalach)\n",
    "    data.oldpeak=scale(data.oldpeak)\n",
    "    return data\n",
    "def Predict_target(predictions):\n",
    "    for i in range(len(predictions)):\n",
    "        if predictions[i] >= 0.5:\n",
    "            predictions[i] = 1\n",
    "        else:\n",
    "            predictions[i] = 0\n",
    "    return predictions"
   ]
  },
  {
   "cell_type": "code",
   "execution_count": 2,
   "id": "7874777f",
   "metadata": {},
   "outputs": [
    {
     "data": {
      "text/html": [
       "<div>\n",
       "<style scoped>\n",
       "    .dataframe tbody tr th:only-of-type {\n",
       "        vertical-align: middle;\n",
       "    }\n",
       "\n",
       "    .dataframe tbody tr th {\n",
       "        vertical-align: top;\n",
       "    }\n",
       "\n",
       "    .dataframe thead th {\n",
       "        text-align: right;\n",
       "    }\n",
       "</style>\n",
       "<table border=\"1\" class=\"dataframe\">\n",
       "  <thead>\n",
       "    <tr style=\"text-align: right;\">\n",
       "      <th></th>\n",
       "      <th>age</th>\n",
       "      <th>sex</th>\n",
       "      <th>cp</th>\n",
       "      <th>trestbps</th>\n",
       "      <th>chol</th>\n",
       "      <th>fbs</th>\n",
       "      <th>restecg</th>\n",
       "      <th>thalach</th>\n",
       "      <th>exang</th>\n",
       "      <th>oldpeak</th>\n",
       "      <th>slope</th>\n",
       "      <th>ca</th>\n",
       "      <th>thal</th>\n",
       "      <th>target</th>\n",
       "    </tr>\n",
       "  </thead>\n",
       "  <tbody>\n",
       "    <tr>\n",
       "      <th>0</th>\n",
       "      <td>52</td>\n",
       "      <td>1</td>\n",
       "      <td>0</td>\n",
       "      <td>125</td>\n",
       "      <td>212</td>\n",
       "      <td>0</td>\n",
       "      <td>1</td>\n",
       "      <td>168</td>\n",
       "      <td>0</td>\n",
       "      <td>1.0</td>\n",
       "      <td>2</td>\n",
       "      <td>2</td>\n",
       "      <td>3</td>\n",
       "      <td>0</td>\n",
       "    </tr>\n",
       "    <tr>\n",
       "      <th>1</th>\n",
       "      <td>53</td>\n",
       "      <td>1</td>\n",
       "      <td>0</td>\n",
       "      <td>140</td>\n",
       "      <td>203</td>\n",
       "      <td>1</td>\n",
       "      <td>0</td>\n",
       "      <td>155</td>\n",
       "      <td>1</td>\n",
       "      <td>3.1</td>\n",
       "      <td>0</td>\n",
       "      <td>0</td>\n",
       "      <td>3</td>\n",
       "      <td>0</td>\n",
       "    </tr>\n",
       "    <tr>\n",
       "      <th>2</th>\n",
       "      <td>70</td>\n",
       "      <td>1</td>\n",
       "      <td>0</td>\n",
       "      <td>145</td>\n",
       "      <td>174</td>\n",
       "      <td>0</td>\n",
       "      <td>1</td>\n",
       "      <td>125</td>\n",
       "      <td>1</td>\n",
       "      <td>2.6</td>\n",
       "      <td>0</td>\n",
       "      <td>0</td>\n",
       "      <td>3</td>\n",
       "      <td>0</td>\n",
       "    </tr>\n",
       "    <tr>\n",
       "      <th>3</th>\n",
       "      <td>61</td>\n",
       "      <td>1</td>\n",
       "      <td>0</td>\n",
       "      <td>148</td>\n",
       "      <td>203</td>\n",
       "      <td>0</td>\n",
       "      <td>1</td>\n",
       "      <td>161</td>\n",
       "      <td>0</td>\n",
       "      <td>0.0</td>\n",
       "      <td>2</td>\n",
       "      <td>1</td>\n",
       "      <td>3</td>\n",
       "      <td>0</td>\n",
       "    </tr>\n",
       "    <tr>\n",
       "      <th>4</th>\n",
       "      <td>62</td>\n",
       "      <td>0</td>\n",
       "      <td>0</td>\n",
       "      <td>138</td>\n",
       "      <td>294</td>\n",
       "      <td>1</td>\n",
       "      <td>1</td>\n",
       "      <td>106</td>\n",
       "      <td>0</td>\n",
       "      <td>1.9</td>\n",
       "      <td>1</td>\n",
       "      <td>3</td>\n",
       "      <td>2</td>\n",
       "      <td>0</td>\n",
       "    </tr>\n",
       "  </tbody>\n",
       "</table>\n",
       "</div>"
      ],
      "text/plain": [
       "   age  sex  cp  trestbps  chol  fbs  restecg  thalach  exang  oldpeak  slope  \\\n",
       "0   52    1   0       125   212    0        1      168      0      1.0      2   \n",
       "1   53    1   0       140   203    1        0      155      1      3.1      0   \n",
       "2   70    1   0       145   174    0        1      125      1      2.6      0   \n",
       "3   61    1   0       148   203    0        1      161      0      0.0      2   \n",
       "4   62    0   0       138   294    1        1      106      0      1.9      1   \n",
       "\n",
       "   ca  thal  target  \n",
       "0   2     3       0  \n",
       "1   0     3       0  \n",
       "2   0     3       0  \n",
       "3   1     3       0  \n",
       "4   3     2       0  "
      ]
     },
     "execution_count": 2,
     "metadata": {},
     "output_type": "execute_result"
    }
   ],
   "source": [
    "data = pd.read_csv('heart.csv')\n",
    "data.head()"
   ]
  },
  {
   "cell_type": "code",
   "execution_count": 3,
   "id": "5e3106e8",
   "metadata": {},
   "outputs": [],
   "source": [
    "positive = data.loc[data.target==1]\n",
    "negative = data.loc[data.target==0]"
   ]
  },
  {
   "cell_type": "code",
   "execution_count": 5,
   "id": "9ab3bc80",
   "metadata": {},
   "outputs": [],
   "source": [
    "pos_train = positive.sample(n=100)\n",
    "neg_train = negative.sample(n=349)\n",
    "data_train = pd.concat([neg_train, pos_train])\n",
    "labels = data_train.target.to_numpy()\n",
    "data_train[\"bias\"]=np.ones(449)\n",
    "data_train=data_train.drop(['target'], axis=1)"
   ]
  },
  {
   "cell_type": "markdown",
   "id": "e52ef43d",
   "metadata": {},
   "source": [
    "### Train model and predict"
   ]
  },
  {
   "cell_type": "code",
   "execution_count": 7,
   "id": "2394ac91",
   "metadata": {},
   "outputs": [
    {
     "data": {
      "text/plain": [
       "[<matplotlib.lines.Line2D at 0x26624362ee0>]"
      ]
     },
     "execution_count": 7,
     "metadata": {},
     "output_type": "execute_result"
    },
    {
     "data": {
      "image/png": "[encoded data removed]",
      "text/plain": [
       "<Figure size 432x288 with 1 Axes>"
      ]
     },
     "metadata": {
      "needs_background": "light"
     },
     "output_type": "display_data"
    }
   ],
   "source": [
    "weights = np.zeros([14], float)\n",
    "cost_history = []\n",
    "weights, cost_history = train(Scale_data(data_train).to_numpy(), labels, weights, 0.0005, 10000)\n",
    "plt.plot(cost_history)"
   ]
  },
  {
   "cell_type": "code",
   "execution_count": 10,
   "id": "47ccacd2",
   "metadata": {},
   "outputs": [
    {
     "data": {
      "text/plain": [
       "[Text(0.5, 1.0, 'Predictions of data train')]"
      ]
     },
     "execution_count": 10,
     "metadata": {},
     "output_type": "execute_result"
    },
    {
     "data": {
      "image/png": "[encoded data removed]",
      "text/plain": [
       "<Figure size 432x288 with 1 Axes>"
      ]
     },
     "metadata": {
      "needs_background": "light"
     },
     "output_type": "display_data"
    }
   ],
   "source": [
    "predictions = Predict(Scale_data(data_train).to_numpy(), weights)\n",
    "predictions = Predict_target(predictions)\n",
    "target_values = {\"Positive\": np.count_nonzero(predictions==1), \"Negative\": np.count_nonzero(predictions==0)}\n",
    "fig, ax = plt.subplots()\n",
    "ax.bar(target_values.keys(), target_values.values())\n",
    "ax.set(title=\"Predictions of data train\")"
   ]
  },
  {
   "cell_type": "code",
   "execution_count": 11,
   "id": "1b59973d",
   "metadata": {},
   "outputs": [],
   "source": [
    "def Confusion_matrix(predictions, labels):\n",
    "    True_Pos = True_Neg = False_Neg = False_Pos = 0\n",
    "    for i in range(len(labels)):\n",
    "        if predictions[i]==labels[i]==1:\n",
    "            True_Pos+=1\n",
    "        elif predictions[i]==1 and labels[i]==0:\n",
    "            False_Pos+=1\n",
    "        elif predictions[i]==0 and labels[i]==1:\n",
    "            False_Neg+=1\n",
    "        elif predictions[i]==labels[i]==0:\n",
    "            True_Neg+=1\n",
    "    return True_Pos, True_Neg, False_Neg, False_Pos\n",
    "def Evaluation_metrics(True_Pos, True_Neg, False_Neg, False_Pos):\n",
    "    accuracy =(True_Pos+True_Neg)/(True_Pos+ True_Neg+ False_Neg+ False_Pos)\n",
    "    precision = True_Pos/(True_Pos+False_Pos)\n",
    "    recall = True_Pos/(True_Pos+False_Neg)\n",
    "    F1_score = (2*precision*recall)/(precision+recall)\n",
    "    return accuracy, precision, recall, F1_score"
   ]
  },
  {
   "cell_type": "code",
   "execution_count": 12,
   "id": "5ad9b239",
   "metadata": {},
   "outputs": [],
   "source": [
    "data_test = data.drop(labels=data_train.index, axis = 0)\n",
    "data_test[\"bias\"]=np.ones(len(data_test))\n",
    "labels_of_datatest = data_test.target.to_numpy()\n",
    "data_test = data_test.drop(['target'], axis=1)\n",
    "predictions_of_datatest = Predict(Scale_data(data_test).to_numpy(), weights)\n",
    "predictions_of_datatest = Predict_target(predictions_of_datatest)\n",
    "\n",
    "True_Pos_1, True_Neg_1, False_Neg_1, False_Pos_1 = Confusion_matrix(predictions, labels)\n",
    "accuracy_1, precision_1, recall_1, F1_score_1 = Evaluation_metrics(True_Pos_1, True_Neg_1, False_Neg_1, False_Pos_1)\n",
    "\n",
    "True_Pos_2, True_Neg_2, False_Neg_2, False_Pos_2 = Confusion_matrix(predictions_of_datatest, labels_of_datatest)\n",
    "accuracy_2, precision_2, recall_2, F1_score_2 = Evaluation_metrics(True_Pos_2, True_Neg_2, False_Neg_2, False_Pos_2)"
   ]
  },
  {
   "cell_type": "code",
   "execution_count": 13,
   "id": "ad98d71f",
   "metadata": {},
   "outputs": [],
   "source": [
    "pos_test = positive.drop(labels=pos_train.index, axis =0)\n",
    "neg_test = negative.drop(labels=neg_train.index, axis=0)"
   ]
  },
  {
   "cell_type": "code",
   "execution_count": 14,
   "id": "a098953f",
   "metadata": {},
   "outputs": [
    {
     "data": {
      "text/plain": [
       "(319, 138, 107, 12)"
      ]
     },
     "execution_count": 14,
     "metadata": {},
     "output_type": "execute_result"
    }
   ],
   "source": [
    "True_Pos_2, True_Neg_2, False_Neg_2, False_Pos_2"
   ]
  },
  {
   "cell_type": "code",
   "execution_count": 15,
   "id": "2efc7d7b",
   "metadata": {},
   "outputs": [],
   "source": [
    "n1_pos = len(pos_train)\n",
    "n1_neg = len(neg_train)\n",
    "n2_pos = len(pos_test)\n",
    "n2_neg = len(neg_test)\n",
    "Conf_matrix_2 = np.array([[round(True_Neg_2/n2_neg,2),round(False_Pos_2/n2_neg,2)],[round(False_Neg_2/n2_pos,2), round(True_Pos_2/n2_pos,2)]])\n",
    "Conf_matrix_1 = np.array([[round(True_Neg_1/n1_neg,2),round(False_Pos_1/n1_neg,2)],[round(False_Neg_1/n1_pos,2), round(True_Pos_1/n1_pos,2)]])"
   ]
  },
  {
   "cell_type": "code",
   "execution_count": 16,
   "id": "58bf179a",
   "metadata": {},
   "outputs": [],
   "source": [
    "def Visualize_confusion_matrix(Confusion_matrix):\n",
    "    fig, ax = plt.subplots(figsize=(5, 5))\n",
    "    ax.matshow(Confusion_matrix, cmap=plt.cm.Blues, alpha=0.3)\n",
    "    for i in range(Confusion_matrix.shape[0]):\n",
    "        for j in range(Confusion_matrix.shape[1]):\n",
    "            ax.text(x=j, y=i,s=Confusion_matrix[i, j], va='center', ha='center', size='xx-large')\n",
    "    plt.xlabel('Predictions', fontsize=18)\n",
    "    plt.ylabel('Actuals', fontsize=18)\n",
    "    plt.title('Confusion Matrix', fontsize=18)"
   ]
  },
  {
   "cell_type": "markdown",
   "id": "a421d9db",
   "metadata": {},
   "source": [
    "### Evaluation metrics of data train"
   ]
  },
  {
   "cell_type": "code",
   "execution_count": 17,
   "id": "8e73962b",
   "metadata": {},
   "outputs": [
    {
     "data": {
      "image/png": "[encoded data removed]",
      "text/plain": [
       "<Figure size 360x360 with 1 Axes>"
      ]
     },
     "metadata": {
      "needs_background": "light"
     },
     "output_type": "display_data"
    }
   ],
   "source": [
    "Visualize_confusion_matrix(Conf_matrix_1)"
   ]
  },
  {
   "cell_type": "code",
   "execution_count": 18,
   "id": "30290444",
   "metadata": {},
   "outputs": [
    {
     "data": {
      "text/plain": [
       "(0.8084632516703786, 0.5421686746987951, 0.9, 0.6766917293233082)"
      ]
     },
     "execution_count": 18,
     "metadata": {},
     "output_type": "execute_result"
    }
   ],
   "source": [
    "accuracy_1, precision_1, recall_1, F1_score_1"
   ]
  },
  {
   "cell_type": "markdown",
   "id": "306a8e20",
   "metadata": {},
   "source": [
    "### Evaluation metrics of data test"
   ]
  },
  {
   "cell_type": "code",
   "execution_count": 68,
   "id": "6b7876b5",
   "metadata": {},
   "outputs": [
    {
     "data": {
      "image/png": "[encoded data removed]",
      "text/plain": [
       "<Figure size 360x360 with 1 Axes>"
      ]
     },
     "metadata": {
      "needs_background": "light"
     },
     "output_type": "display_data"
    }
   ],
   "source": [
    "Visualize_confusion_matrix(Conf_matrix_2)"
   ]
  },
  {
   "cell_type": "code",
   "execution_count": 19,
   "id": "e7aadfd9",
   "metadata": {},
   "outputs": [
    {
     "data": {
      "text/plain": [
       "(0.7934027777777778,\n",
       " 0.9637462235649547,\n",
       " 0.7488262910798122,\n",
       " 0.8428005284015851)"
      ]
     },
     "execution_count": 19,
     "metadata": {},
     "output_type": "execute_result"
    }
   ],
   "source": [
    "accuracy_2, precision_2, recall_2, F1_score_2 "
   ]
  },
  {
   "cell_type": "markdown",
   "id": "f2c8e650",
   "metadata": {},
   "source": [
    "### Conclusion:\n",
    "F1_score increased by 47% from 0.37 to 0.84"
   ]
  },
  {
   "cell_type": "code",
   "execution_count": null,
   "id": "8ef6c89a",
   "metadata": {},
   "outputs": [],
   "source": []
  }
 ],
 "metadata": {
  "kernelspec": {
   "display_name": "Python 3 (ipykernel)",
   "language": "python",
   "name": "python3"
  },
  "language_info": {
   "codemirror_mode": {
    "name": "ipython",
    "version": 3
   },
   "file_extension": ".py",
   "mimetype": "text/x-python",
   "name": "python",
   "nbconvert_exporter": "python",
   "pygments_lexer": "ipython3",
   "version": "3.9.12"
  }
 },
 "nbformat": 4,
 "nbformat_minor": 5
}
