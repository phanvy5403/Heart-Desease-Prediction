{
 "cells": [
  {
   "cell_type": "markdown",
   "id": "6da46ae5",
   "metadata": {},
   "source": [
    "# Train model on a balanced dataset\n"
   ]
  },
  {
   "cell_type": "markdown",
   "id": "6f8e366a",
   "metadata": {},
   "source": [
    "### Build a logistic regression model"
   ]
  },
  {
   "cell_type": "code",
   "execution_count": 133,
   "id": "fd99c0d3",
   "metadata": {},
   "outputs": [],
   "source": [
    "#Import libaries\n",
    "import pandas as pd\n",
    "import numpy as np\n",
    "import matplotlib.pyplot as plt\n",
    "from sklearn.preprocessing import scale"
   ]
  },
  {
   "cell_type": "code",
   "execution_count": 134,
   "id": "e2d2a46d",
   "metadata": {},
   "outputs": [],
   "source": [
    "#training model fuctions\n",
    "def Sigmoid(z):\n",
    "    return 1.0/(1+np.exp(-z))\n",
    "def Predict(x,w):\n",
    "    z = np.dot(x, w)\n",
    "    return Sigmoid(z)\n",
    "def cost_function(features, labels, weights):\n",
    "    n = len(labels)\n",
    "    predictions = Predict(features, weights)\n",
    "    cost_class1 = -np.log(predictions)*labels\n",
    "    cost_class2 = -np.log(1-predictions)*(1-labels)\n",
    "    cost = cost_class1 + cost_class2\n",
    "    return cost.sum()/n\n",
    "def update_weight(features, labels, weights, learning_rate):\n",
    "    n = len(labels)\n",
    "    predictions = Predict(features, weights)\n",
    "    gradient = np.dot(features.T, predictions-labels)\n",
    "    gradient /= n\n",
    "    gradient *= learning_rate\n",
    "    weights = weights - gradient\n",
    "    return weights\n",
    "def train(features, labels, weights, learning_rate, iter):\n",
    "    cost_history = []\n",
    "    for i in range(iter):\n",
    "        weights = update_weight(features, labels, weights, learning_rate)\n",
    "        cost = cost_function(features, labels, weights)\n",
    "        cost_history.append(cost)\n",
    "    return weights, cost_history\n",
    "#Normalized data function\n",
    "def Scale_data(data):\n",
    "    data.age=scale(data.age)\n",
    "    data.trestbps=scale(data.trestbps)\n",
    "    data.chol=scale(data.chol)\n",
    "    data.thalach=scale(data.thalach)\n",
    "    data.oldpeak=scale(data.oldpeak)\n",
    "    return data\n",
    "def Predict_target(predictions):\n",
    "    for i in range(len(predictions)):\n",
    "        if predictions[i] >= 0.5:\n",
    "            predictions[i] = 1\n",
    "        else:\n",
    "            predictions[i] = 0\n",
    "    return predictions"
   ]
  },
  {
   "cell_type": "markdown",
   "id": "053e6937",
   "metadata": {},
   "source": [
    "### Generate dataset"
   ]
  },
  {
   "cell_type": "code",
   "execution_count": 135,
   "id": "bb3dad1e",
   "metadata": {},
   "outputs": [
    {
     "data": {
      "text/html": [
       "<div>\n",
       "<style scoped>\n",
       "    .dataframe tbody tr th:only-of-type {\n",
       "        vertical-align: middle;\n",
       "    }\n",
       "\n",
       "    .dataframe tbody tr th {\n",
       "        vertical-align: top;\n",
       "    }\n",
       "\n",
       "    .dataframe thead th {\n",
       "        text-align: right;\n",
       "    }\n",
       "</style>\n",
       "<table border=\"1\" class=\"dataframe\">\n",
       "  <thead>\n",
       "    <tr style=\"text-align: right;\">\n",
       "      <th></th>\n",
       "      <th>age</th>\n",
       "      <th>sex</th>\n",
       "      <th>cp</th>\n",
       "      <th>trestbps</th>\n",
       "      <th>chol</th>\n",
       "      <th>fbs</th>\n",
       "      <th>restecg</th>\n",
       "      <th>thalach</th>\n",
       "      <th>exang</th>\n",
       "      <th>oldpeak</th>\n",
       "      <th>slope</th>\n",
       "      <th>ca</th>\n",
       "      <th>thal</th>\n",
       "      <th>target</th>\n",
       "    </tr>\n",
       "  </thead>\n",
       "  <tbody>\n",
       "    <tr>\n",
       "      <th>0</th>\n",
       "      <td>52</td>\n",
       "      <td>1</td>\n",
       "      <td>0</td>\n",
       "      <td>125</td>\n",
       "      <td>212</td>\n",
       "      <td>0</td>\n",
       "      <td>1</td>\n",
       "      <td>168</td>\n",
       "      <td>0</td>\n",
       "      <td>1.0</td>\n",
       "      <td>2</td>\n",
       "      <td>2</td>\n",
       "      <td>3</td>\n",
       "      <td>0</td>\n",
       "    </tr>\n",
       "    <tr>\n",
       "      <th>1</th>\n",
       "      <td>53</td>\n",
       "      <td>1</td>\n",
       "      <td>0</td>\n",
       "      <td>140</td>\n",
       "      <td>203</td>\n",
       "      <td>1</td>\n",
       "      <td>0</td>\n",
       "      <td>155</td>\n",
       "      <td>1</td>\n",
       "      <td>3.1</td>\n",
       "      <td>0</td>\n",
       "      <td>0</td>\n",
       "      <td>3</td>\n",
       "      <td>0</td>\n",
       "    </tr>\n",
       "    <tr>\n",
       "      <th>2</th>\n",
       "      <td>70</td>\n",
       "      <td>1</td>\n",
       "      <td>0</td>\n",
       "      <td>145</td>\n",
       "      <td>174</td>\n",
       "      <td>0</td>\n",
       "      <td>1</td>\n",
       "      <td>125</td>\n",
       "      <td>1</td>\n",
       "      <td>2.6</td>\n",
       "      <td>0</td>\n",
       "      <td>0</td>\n",
       "      <td>3</td>\n",
       "      <td>0</td>\n",
       "    </tr>\n",
       "    <tr>\n",
       "      <th>3</th>\n",
       "      <td>61</td>\n",
       "      <td>1</td>\n",
       "      <td>0</td>\n",
       "      <td>148</td>\n",
       "      <td>203</td>\n",
       "      <td>0</td>\n",
       "      <td>1</td>\n",
       "      <td>161</td>\n",
       "      <td>0</td>\n",
       "      <td>0.0</td>\n",
       "      <td>2</td>\n",
       "      <td>1</td>\n",
       "      <td>3</td>\n",
       "      <td>0</td>\n",
       "    </tr>\n",
       "    <tr>\n",
       "      <th>4</th>\n",
       "      <td>62</td>\n",
       "      <td>0</td>\n",
       "      <td>0</td>\n",
       "      <td>138</td>\n",
       "      <td>294</td>\n",
       "      <td>1</td>\n",
       "      <td>1</td>\n",
       "      <td>106</td>\n",
       "      <td>0</td>\n",
       "      <td>1.9</td>\n",
       "      <td>1</td>\n",
       "      <td>3</td>\n",
       "      <td>2</td>\n",
       "      <td>0</td>\n",
       "    </tr>\n",
       "  </tbody>\n",
       "</table>\n",
       "</div>"
      ],
      "text/plain": [
       "   age  sex  cp  trestbps  chol  fbs  restecg  thalach  exang  oldpeak  slope  \\\n",
       "0   52    1   0       125   212    0        1      168      0      1.0      2   \n",
       "1   53    1   0       140   203    1        0      155      1      3.1      0   \n",
       "2   70    1   0       145   174    0        1      125      1      2.6      0   \n",
       "3   61    1   0       148   203    0        1      161      0      0.0      2   \n",
       "4   62    0   0       138   294    1        1      106      0      1.9      1   \n",
       "\n",
       "   ca  thal  target  \n",
       "0   2     3       0  \n",
       "1   0     3       0  \n",
       "2   0     3       0  \n",
       "3   1     3       0  \n",
       "4   3     2       0  "
      ]
     },
     "execution_count": 135,
     "metadata": {},
     "output_type": "execute_result"
    }
   ],
   "source": [
    "#Generate data\n",
    "data = pd.read_csv('heart.csv')\n",
    "data.head()"
   ]
  },
  {
   "cell_type": "code",
   "execution_count": 136,
   "id": "660ca01c",
   "metadata": {},
   "outputs": [
    {
     "data": {
      "text/plain": [
       "(1025, 14)"
      ]
     },
     "execution_count": 136,
     "metadata": {},
     "output_type": "execute_result"
    }
   ],
   "source": [
    "data.shape"
   ]
  },
  {
   "cell_type": "code",
   "execution_count": 137,
   "id": "1036edc8",
   "metadata": {},
   "outputs": [
    {
     "name": "stdout",
     "output_type": "stream",
     "text": [
      "<class 'pandas.core.frame.DataFrame'>\n",
      "RangeIndex: 1025 entries, 0 to 1024\n",
      "Data columns (total 14 columns):\n",
      " #   Column    Non-Null Count  Dtype  \n",
      "---  ------    --------------  -----  \n",
      " 0   age       1025 non-null   int64  \n",
      " 1   sex       1025 non-null   int64  \n",
      " 2   cp        1025 non-null   int64  \n",
      " 3   trestbps  1025 non-null   int64  \n",
      " 4   chol      1025 non-null   int64  \n",
      " 5   fbs       1025 non-null   int64  \n",
      " 6   restecg   1025 non-null   int64  \n",
      " 7   thalach   1025 non-null   int64  \n",
      " 8   exang     1025 non-null   int64  \n",
      " 9   oldpeak   1025 non-null   float64\n",
      " 10  slope     1025 non-null   int64  \n",
      " 11  ca        1025 non-null   int64  \n",
      " 12  thal      1025 non-null   int64  \n",
      " 13  target    1025 non-null   int64  \n",
      "dtypes: float64(1), int64(13)\n",
      "memory usage: 112.2 KB\n"
     ]
    }
   ],
   "source": [
    "data.info()"
   ]
  },
  {
   "cell_type": "code",
   "execution_count": 138,
   "id": "0810d477",
   "metadata": {},
   "outputs": [
    {
     "data": {
      "text/plain": [
       "[Text(0.5, 1.0, 'Count of two class')]"
      ]
     },
     "execution_count": 138,
     "metadata": {},
     "output_type": "execute_result"
    },
    {
     "data": {
      "image/png": "[encoded data removed]",
      "text/plain": [
       "<Figure size 432x288 with 1 Axes>"
      ]
     },
     "metadata": {
      "needs_background": "light"
     },
     "output_type": "display_data"
    }
   ],
   "source": [
    "target_values = {\"Positive\": len(data.loc[data.target==1]), \"Negative\": len(data.loc[data.target==0])}\n",
    "fig, ax = plt.subplots()\n",
    "ax.bar(target_values.keys(), target_values.values())\n",
    "ax.set(title=\"Count of two class\")"
   ]
  },
  {
   "cell_type": "code",
   "execution_count": 139,
   "id": "6f87f082",
   "metadata": {},
   "outputs": [],
   "source": [
    "#Split data train and data test: 70%(718/1025) values for training and 30%(307/1025) values for testing\n",
    "features = data.drop(['target'], axis=1)\n",
    "features[\"bias\"] = np.ones(1025)\n",
    "positive = data.loc[data.target==1]\n",
    "negative = data.loc[data.target==0]\n",
    "#data for training:\n",
    "data_train = features[:718]\n",
    "labels_of_datatrain = data[:718].target.to_numpy()\n",
    "#data for testing\n",
    "data_test = features[718:]\n",
    "labels_of_datatest = data[718:].target.to_numpy()"
   ]
  },
  {
   "cell_type": "markdown",
   "id": "da0fe004",
   "metadata": {},
   "source": [
    "### Train model and predict "
   ]
  },
  {
   "cell_type": "code",
   "execution_count": 140,
   "id": "d37e60aa",
   "metadata": {},
   "outputs": [
    {
     "name": "stderr",
     "output_type": "stream",
     "text": [
      "C:\\Users\\TechCare\\AppData\\Local\\Temp\\ipykernel_8476\\3634651129.py:31: SettingWithCopyWarning: \n",
      "A value is trying to be set on a copy of a slice from a DataFrame.\n",
      "Try using .loc[row_indexer,col_indexer] = value instead\n",
      "\n",
      "See the caveats in the documentation: https://pandas.pydata.org/pandas-docs/stable/user_guide/indexing.html#returning-a-view-versus-a-copy\n",
      "  data.age=scale(data.age)\n",
      "C:\\Users\\TechCare\\AppData\\Local\\Temp\\ipykernel_8476\\3634651129.py:32: SettingWithCopyWarning: \n",
      "A value is trying to be set on a copy of a slice from a DataFrame.\n",
      "Try using .loc[row_indexer,col_indexer] = value instead\n",
      "\n",
      "See the caveats in the documentation: https://pandas.pydata.org/pandas-docs/stable/user_guide/indexing.html#returning-a-view-versus-a-copy\n",
      "  data.trestbps=scale(data.trestbps)\n",
      "C:\\Users\\TechCare\\AppData\\Local\\Temp\\ipykernel_8476\\3634651129.py:33: SettingWithCopyWarning: \n",
      "A value is trying to be set on a copy of a slice from a DataFrame.\n",
      "Try using .loc[row_indexer,col_indexer] = value instead\n",
      "\n",
      "See the caveats in the documentation: https://pandas.pydata.org/pandas-docs/stable/user_guide/indexing.html#returning-a-view-versus-a-copy\n",
      "  data.chol=scale(data.chol)\n",
      "C:\\Users\\TechCare\\AppData\\Local\\Temp\\ipykernel_8476\\3634651129.py:34: SettingWithCopyWarning: \n",
      "A value is trying to be set on a copy of a slice from a DataFrame.\n",
      "Try using .loc[row_indexer,col_indexer] = value instead\n",
      "\n",
      "See the caveats in the documentation: https://pandas.pydata.org/pandas-docs/stable/user_guide/indexing.html#returning-a-view-versus-a-copy\n",
      "  data.thalach=scale(data.thalach)\n",
      "C:\\Users\\TechCare\\AppData\\Local\\Temp\\ipykernel_8476\\3634651129.py:35: SettingWithCopyWarning: \n",
      "A value is trying to be set on a copy of a slice from a DataFrame.\n",
      "Try using .loc[row_indexer,col_indexer] = value instead\n",
      "\n",
      "See the caveats in the documentation: https://pandas.pydata.org/pandas-docs/stable/user_guide/indexing.html#returning-a-view-versus-a-copy\n",
      "  data.oldpeak=scale(data.oldpeak)\n"
     ]
    },
    {
     "data": {
      "text/plain": [
       "[<matplotlib.lines.Line2D at 0x1eadc2b5eb0>]"
      ]
     },
     "execution_count": 140,
     "metadata": {},
     "output_type": "execute_result"
    },
    {
     "data": {
      "image/png": "[encoded data removed]",
      "text/plain": [
       "<Figure size 432x288 with 1 Axes>"
      ]
     },
     "metadata": {
      "needs_background": "light"
     },
     "output_type": "display_data"
    }
   ],
   "source": [
    "weights = np.zeros([14], float)\n",
    "cost_history = []\n",
    "weights, cost_history = train(Scale_data(features[:718]).to_numpy(), labels_of_datatrain, weights, 0.001, 8000)\n",
    "#Visualize cost history \n",
    "plt.plot(cost_history)"
   ]
  },
  {
   "cell_type": "code",
   "execution_count": 141,
   "id": "efb962aa",
   "metadata": {},
   "outputs": [
    {
     "name": "stderr",
     "output_type": "stream",
     "text": [
      "C:\\Users\\TechCare\\AppData\\Local\\Temp\\ipykernel_8476\\3634651129.py:31: SettingWithCopyWarning: \n",
      "A value is trying to be set on a copy of a slice from a DataFrame.\n",
      "Try using .loc[row_indexer,col_indexer] = value instead\n",
      "\n",
      "See the caveats in the documentation: https://pandas.pydata.org/pandas-docs/stable/user_guide/indexing.html#returning-a-view-versus-a-copy\n",
      "  data.age=scale(data.age)\n",
      "C:\\Users\\TechCare\\AppData\\Local\\Temp\\ipykernel_8476\\3634651129.py:32: SettingWithCopyWarning: \n",
      "A value is trying to be set on a copy of a slice from a DataFrame.\n",
      "Try using .loc[row_indexer,col_indexer] = value instead\n",
      "\n",
      "See the caveats in the documentation: https://pandas.pydata.org/pandas-docs/stable/user_guide/indexing.html#returning-a-view-versus-a-copy\n",
      "  data.trestbps=scale(data.trestbps)\n",
      "C:\\Users\\TechCare\\AppData\\Local\\Temp\\ipykernel_8476\\3634651129.py:33: SettingWithCopyWarning: \n",
      "A value is trying to be set on a copy of a slice from a DataFrame.\n",
      "Try using .loc[row_indexer,col_indexer] = value instead\n",
      "\n",
      "See the caveats in the documentation: https://pandas.pydata.org/pandas-docs/stable/user_guide/indexing.html#returning-a-view-versus-a-copy\n",
      "  data.chol=scale(data.chol)\n",
      "C:\\Users\\TechCare\\AppData\\Local\\Temp\\ipykernel_8476\\3634651129.py:34: SettingWithCopyWarning: \n",
      "A value is trying to be set on a copy of a slice from a DataFrame.\n",
      "Try using .loc[row_indexer,col_indexer] = value instead\n",
      "\n",
      "See the caveats in the documentation: https://pandas.pydata.org/pandas-docs/stable/user_guide/indexing.html#returning-a-view-versus-a-copy\n",
      "  data.thalach=scale(data.thalach)\n",
      "C:\\Users\\TechCare\\AppData\\Local\\Temp\\ipykernel_8476\\3634651129.py:35: SettingWithCopyWarning: \n",
      "A value is trying to be set on a copy of a slice from a DataFrame.\n",
      "Try using .loc[row_indexer,col_indexer] = value instead\n",
      "\n",
      "See the caveats in the documentation: https://pandas.pydata.org/pandas-docs/stable/user_guide/indexing.html#returning-a-view-versus-a-copy\n",
      "  data.oldpeak=scale(data.oldpeak)\n"
     ]
    },
    {
     "data": {
      "text/plain": [
       "[Text(0.5, 1.0, 'Predictions of data train')]"
      ]
     },
     "execution_count": 141,
     "metadata": {},
     "output_type": "execute_result"
    },
    {
     "data": {
      "image/png": "[encoded data removed]",
      "text/plain": [
       "<Figure size 432x288 with 1 Axes>"
      ]
     },
     "metadata": {
      "needs_background": "light"
     },
     "output_type": "display_data"
    }
   ],
   "source": [
    "### Predictions of data train\n",
    "predictions = Predict(Scale_data(features[:718]).to_numpy(), weights)\n",
    "predictions = Predict_target(predictions)\n",
    "target_values = {\"Positive\": np.count_nonzero(predictions==1), \"Negative\": np.count_nonzero(predictions==1)}\n",
    "fig, ax = plt.subplots()\n",
    "ax.bar(target_values.keys(), target_values.values())\n",
    "ax.set(title=\"Predictions of data train\")"
   ]
  },
  {
   "cell_type": "code",
   "execution_count": 142,
   "id": "18262508",
   "metadata": {},
   "outputs": [
    {
     "name": "stderr",
     "output_type": "stream",
     "text": [
      "C:\\Users\\TechCare\\AppData\\Local\\Temp\\ipykernel_8476\\3634651129.py:31: SettingWithCopyWarning: \n",
      "A value is trying to be set on a copy of a slice from a DataFrame.\n",
      "Try using .loc[row_indexer,col_indexer] = value instead\n",
      "\n",
      "See the caveats in the documentation: https://pandas.pydata.org/pandas-docs/stable/user_guide/indexing.html#returning-a-view-versus-a-copy\n",
      "  data.age=scale(data.age)\n",
      "C:\\Users\\TechCare\\AppData\\Local\\Temp\\ipykernel_8476\\3634651129.py:32: SettingWithCopyWarning: \n",
      "A value is trying to be set on a copy of a slice from a DataFrame.\n",
      "Try using .loc[row_indexer,col_indexer] = value instead\n",
      "\n",
      "See the caveats in the documentation: https://pandas.pydata.org/pandas-docs/stable/user_guide/indexing.html#returning-a-view-versus-a-copy\n",
      "  data.trestbps=scale(data.trestbps)\n",
      "C:\\Users\\TechCare\\AppData\\Local\\Temp\\ipykernel_8476\\3634651129.py:33: SettingWithCopyWarning: \n",
      "A value is trying to be set on a copy of a slice from a DataFrame.\n",
      "Try using .loc[row_indexer,col_indexer] = value instead\n",
      "\n",
      "See the caveats in the documentation: https://pandas.pydata.org/pandas-docs/stable/user_guide/indexing.html#returning-a-view-versus-a-copy\n",
      "  data.chol=scale(data.chol)\n",
      "C:\\Users\\TechCare\\AppData\\Local\\Temp\\ipykernel_8476\\3634651129.py:34: SettingWithCopyWarning: \n",
      "A value is trying to be set on a copy of a slice from a DataFrame.\n",
      "Try using .loc[row_indexer,col_indexer] = value instead\n",
      "\n",
      "See the caveats in the documentation: https://pandas.pydata.org/pandas-docs/stable/user_guide/indexing.html#returning-a-view-versus-a-copy\n",
      "  data.thalach=scale(data.thalach)\n",
      "C:\\Users\\TechCare\\AppData\\Local\\Temp\\ipykernel_8476\\3634651129.py:35: SettingWithCopyWarning: \n",
      "A value is trying to be set on a copy of a slice from a DataFrame.\n",
      "Try using .loc[row_indexer,col_indexer] = value instead\n",
      "\n",
      "See the caveats in the documentation: https://pandas.pydata.org/pandas-docs/stable/user_guide/indexing.html#returning-a-view-versus-a-copy\n",
      "  data.oldpeak=scale(data.oldpeak)\n"
     ]
    },
    {
     "data": {
      "text/plain": [
       "[Text(0.5, 1.0, 'Predictions of data test')]"
      ]
     },
     "execution_count": 142,
     "metadata": {},
     "output_type": "execute_result"
    },
    {
     "data": {
      "image/png": "[encoded data removed]",
      "text/plain": [
       "<Figure size 432x288 with 1 Axes>"
      ]
     },
     "metadata": {
      "needs_background": "light"
     },
     "output_type": "display_data"
    }
   ],
   "source": [
    "#Predictions of data test\n",
    "predictions_of_datatest = Predict(Scale_data(data_test).to_numpy(), weights)\n",
    "predictions_of_datatest = Predict_target(predictions_of_datatest)\n",
    "target_values = {\"Positive\": np.count_nonzero(predictions_of_datatest==1), \"Negative\": np.count_nonzero(predictions_of_datatest==1)}\n",
    "fig, ax = plt.subplots()\n",
    "ax.bar(target_values.keys(), target_values.values())\n",
    "ax.set(title=\"Predictions of data test\")"
   ]
  },
  {
   "cell_type": "markdown",
   "id": "9bc0a468",
   "metadata": {},
   "source": [
    "### Visualize confusion matrix and calculate evaluation metrics"
   ]
  },
  {
   "cell_type": "code",
   "execution_count": 143,
   "id": "c1e2d5a7",
   "metadata": {},
   "outputs": [],
   "source": [
    "def Confusion_matrix(predictions, labels):\n",
    "    True_Pos = True_Neg = False_Neg = False_Pos = 0\n",
    "    for i in range(len(labels)):\n",
    "        if predictions[i]==labels[i]==1:\n",
    "            True_Pos+=1\n",
    "        elif predictions[i]==1 and labels[i]==0:\n",
    "            False_Pos+=1\n",
    "        elif predictions[i]==0 and labels[i]==1:\n",
    "            False_Neg+=1\n",
    "        elif predictions[i]==labels[i]==0:\n",
    "            True_Neg+=1\n",
    "    return True_Pos, True_Neg, False_Neg, False_Pos\n",
    "def Visualize_confusion_matrix(Confusion_matrix):\n",
    "    fig, ax = plt.subplots(figsize=(5, 5))\n",
    "    ax.matshow(Confusion_matrix, cmap=plt.cm.Greens, alpha=0.3)\n",
    "    for i in range(Confusion_matrix.shape[0]):\n",
    "        for j in range(Confusion_matrix.shape[1]):\n",
    "            ax.text(x=j, y=i,s=Confusion_matrix[i, j], va='center', ha='center', size='xx-large')\n",
    "    plt.xlabel('Predictions', fontsize=18)\n",
    "    plt.ylabel('Actuals', fontsize=18)\n",
    "    plt.title('Confusion Matrix', fontsize=18)"
   ]
  },
  {
   "cell_type": "code",
   "execution_count": 144,
   "id": "9df45147",
   "metadata": {},
   "outputs": [],
   "source": [
    "def Evaluation_metrics(True_Pos, True_Neg, False_Neg, False_Pos):\n",
    "    accuracy =(True_Pos+True_Neg)/(True_Pos+ True_Neg+ False_Neg+ False_Pos)\n",
    "    precision = True_Pos/(True_Pos+False_Pos)\n",
    "    recall = True_Pos/(True_Pos+False_Neg)\n",
    "    F1_score = (2*precision*recall)/(precision+recall)\n",
    "    return accuracy, precision, recall, F1_score"
   ]
  },
  {
   "cell_type": "code",
   "execution_count": 145,
   "id": "ae8af706",
   "metadata": {},
   "outputs": [],
   "source": [
    "True_Pos_1, True_Neg_1, False_Neg_1, False_Pos_1 = Confusion_matrix(predictions, labels_of_datatrain)\n",
    "accuracy_1, precision_1, recall_1, F1_score_1 = Evaluation_metrics(True_Pos_1, True_Neg_1, False_Neg_1, False_Pos_1)\n",
    "\n",
    "True_Pos_2, True_Neg_2, False_Neg_2, False_Pos_2 = Confusion_matrix(predictions_of_datatest, labels_of_datatest)\n",
    "accuracy_2, precision_2, recall_2, F1_score_2 = Evaluation_metrics(True_Pos_2, True_Neg_2, False_Neg_2, False_Pos_2)"
   ]
  },
  {
   "cell_type": "code",
   "execution_count": 146,
   "id": "86ece55a",
   "metadata": {},
   "outputs": [],
   "source": [
    "n1_pos = len(data[:718].loc[data.target==1])\n",
    "n1_neg = len(data[:718].loc[data.target==0])\n",
    "n2_pos = len(data[718:].loc[data.target==1])\n",
    "n2_neg = len(data[718:].loc[data.target==0])\n",
    "Conf_matrix_2 = np.array([[round(True_Neg_2/n2_neg,2),round(False_Pos_2/n2_neg,2)],[round(False_Neg_2/n2_pos,2), round(True_Pos_2/n2_pos,2)]])\n",
    "Conf_matrix_1 = np.array([[round(True_Neg_1/n1_neg,2),round(False_Pos_1/n1_neg,2)],[round(False_Neg_1/n1_pos,2), round(True_Pos_1/n1_pos,2)]])"
   ]
  },
  {
   "cell_type": "markdown",
   "id": "13647020",
   "metadata": {},
   "source": [
    "### Evaluation metrics of data train"
   ]
  },
  {
   "cell_type": "code",
   "execution_count": 147,
   "id": "863718e3",
   "metadata": {},
   "outputs": [
    {
     "data": {
      "image/png": "[encoded data removed]",
      "text/plain": [
       "<Figure size 360x360 with 1 Axes>"
      ]
     },
     "metadata": {
      "needs_background": "light"
     },
     "output_type": "display_data"
    }
   ],
   "source": [
    "\n",
    "Visualize_confusion_matrix(Conf_matrix_1)"
   ]
  },
  {
   "cell_type": "code",
   "execution_count": 148,
   "id": "2ab29cf9",
   "metadata": {},
   "outputs": [
    {
     "data": {
      "text/plain": [
       "(0.8495821727019499,\n",
       " 0.8267326732673267,\n",
       " 0.8978494623655914,\n",
       " 0.8608247422680412)"
      ]
     },
     "execution_count": 148,
     "metadata": {},
     "output_type": "execute_result"
    }
   ],
   "source": [
    "accuracy_1, precision_1, recall_1, F1_score_1"
   ]
  },
  {
   "cell_type": "markdown",
   "id": "48ce0d04",
   "metadata": {},
   "source": [
    "### Evaluation metrics of data test"
   ]
  },
  {
   "cell_type": "code",
   "execution_count": 149,
   "id": "dc5181de",
   "metadata": {},
   "outputs": [
    {
     "data": {
      "image/png": "[encoded data removed]",
      "text/plain": [
       "<Figure size 360x360 with 1 Axes>"
      ]
     },
     "metadata": {
      "needs_background": "light"
     },
     "output_type": "display_data"
    }
   ],
   "source": [
    "Visualize_confusion_matrix(Conf_matrix_2)"
   ]
  },
  {
   "cell_type": "code",
   "execution_count": 150,
   "id": "b6785379",
   "metadata": {},
   "outputs": [
    {
     "data": {
      "text/plain": [
       "(0.8013029315960912, 0.7852760736196319, 0.8311688311688312, 0.807570977917981)"
      ]
     },
     "execution_count": 150,
     "metadata": {},
     "output_type": "execute_result"
    }
   ],
   "source": [
    "accuracy_2, precision_2, recall_2, F1_score_2"
   ]
  },
  {
   "cell_type": "code",
   "execution_count": null,
   "id": "ad33c640",
   "metadata": {},
   "outputs": [],
   "source": []
  }
 ],
 "metadata": {
  "kernelspec": {
   "display_name": "Python 3 (ipykernel)",
   "language": "python",
   "name": "python3"
  },
  "language_info": {
   "codemirror_mode": {
    "name": "ipython",
    "version": 3
   },
   "file_extension": ".py",
   "mimetype": "text/x-python",
   "name": "python",
   "nbconvert_exporter": "python",
   "pygments_lexer": "ipython3",
   "version": "3.9.12"
  }
 },
 "nbformat": 4,
 "nbformat_minor": 5
}
